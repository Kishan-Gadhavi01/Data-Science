{
 "cells": [
  {
   "cell_type": "code",
   "execution_count": 32,
   "id": "a15c2de8-765d-48a9-ad6e-d0c9590cdeda",
   "metadata": {},
   "outputs": [],
   "source": [
    "import numpy as np"
   ]
  },
  {
   "cell_type": "code",
   "execution_count": 33,
   "id": "4f4dde17-9ab1-490e-96ab-4142c1f3c39e",
   "metadata": {},
   "outputs": [],
   "source": [
    "a=np.ones((10,10))"
   ]
  },
  {
   "cell_type": "code",
   "execution_count": 34,
   "id": "e48f0064-71fc-4d82-8572-fa48d452c34b",
   "metadata": {},
   "outputs": [
    {
     "data": {
      "text/plain": [
       "array([[1., 1., 1., 1., 1., 1., 1., 1., 1., 1.],\n",
       "       [1., 1., 1., 1., 1., 1., 1., 1., 1., 1.],\n",
       "       [1., 1., 1., 1., 1., 1., 1., 1., 1., 1.],\n",
       "       [1., 1., 1., 1., 1., 1., 1., 1., 1., 1.],\n",
       "       [1., 1., 1., 1., 1., 1., 1., 1., 1., 1.],\n",
       "       [1., 1., 1., 1., 1., 1., 1., 1., 1., 1.],\n",
       "       [1., 1., 1., 1., 1., 1., 1., 1., 1., 1.],\n",
       "       [1., 1., 1., 1., 1., 1., 1., 1., 1., 1.],\n",
       "       [1., 1., 1., 1., 1., 1., 1., 1., 1., 1.],\n",
       "       [1., 1., 1., 1., 1., 1., 1., 1., 1., 1.]])"
      ]
     },
     "execution_count": 34,
     "metadata": {},
     "output_type": "execute_result"
    }
   ],
   "source": [
    "a"
   ]
  },
  {
   "cell_type": "code",
   "execution_count": 38,
   "id": "dbf5f3f3-5f3d-4a72-bbe4-202de5de9583",
   "metadata": {},
   "outputs": [],
   "source": [
    "a[1:9,1:9]=2"
   ]
  },
  {
   "cell_type": "code",
   "execution_count": 39,
   "id": "32bc3f08-f4d3-4306-82e2-592d07f92e4f",
   "metadata": {},
   "outputs": [
    {
     "data": {
      "text/plain": [
       "array([[1., 1., 1., 1., 1., 1., 1., 1., 1., 1.],\n",
       "       [1., 2., 2., 2., 2., 2., 2., 2., 2., 1.],\n",
       "       [1., 2., 2., 2., 2., 2., 2., 2., 2., 1.],\n",
       "       [1., 2., 2., 2., 2., 2., 2., 2., 2., 1.],\n",
       "       [1., 2., 2., 2., 2., 2., 2., 2., 2., 1.],\n",
       "       [1., 2., 2., 2., 2., 2., 2., 2., 2., 1.],\n",
       "       [1., 2., 2., 2., 2., 2., 2., 2., 2., 1.],\n",
       "       [1., 2., 2., 2., 2., 2., 2., 2., 2., 1.],\n",
       "       [1., 2., 2., 2., 2., 2., 2., 2., 2., 1.],\n",
       "       [1., 1., 1., 1., 1., 1., 1., 1., 1., 1.]])"
      ]
     },
     "execution_count": 39,
     "metadata": {},
     "output_type": "execute_result"
    }
   ],
   "source": [
    "a"
   ]
  },
  {
   "cell_type": "code",
   "execution_count": 40,
   "id": "63734a21-8e9d-4d1e-8e9d-cb4379b7f229",
   "metadata": {},
   "outputs": [],
   "source": [
    "a[2:8,2:8]=3"
   ]
  },
  {
   "cell_type": "code",
   "execution_count": 41,
   "id": "740e1bd2-f75b-49b8-b834-f1ec4840994c",
   "metadata": {},
   "outputs": [
    {
     "data": {
      "text/plain": [
       "array([[1., 1., 1., 1., 1., 1., 1., 1., 1., 1.],\n",
       "       [1., 2., 2., 2., 2., 2., 2., 2., 2., 1.],\n",
       "       [1., 2., 3., 3., 3., 3., 3., 3., 2., 1.],\n",
       "       [1., 2., 3., 3., 3., 3., 3., 3., 2., 1.],\n",
       "       [1., 2., 3., 3., 3., 3., 3., 3., 2., 1.],\n",
       "       [1., 2., 3., 3., 3., 3., 3., 3., 2., 1.],\n",
       "       [1., 2., 3., 3., 3., 3., 3., 3., 2., 1.],\n",
       "       [1., 2., 3., 3., 3., 3., 3., 3., 2., 1.],\n",
       "       [1., 2., 2., 2., 2., 2., 2., 2., 2., 1.],\n",
       "       [1., 1., 1., 1., 1., 1., 1., 1., 1., 1.]])"
      ]
     },
     "execution_count": 41,
     "metadata": {},
     "output_type": "execute_result"
    }
   ],
   "source": [
    "a"
   ]
  },
  {
   "cell_type": "code",
   "execution_count": 42,
   "id": "bf4bc251-1939-425a-a163-751d424e5b59",
   "metadata": {},
   "outputs": [],
   "source": [
    "a[3:7,3:7]=4"
   ]
  },
  {
   "cell_type": "code",
   "execution_count": 43,
   "id": "55785a2d-db36-4d44-9fde-2df9cdedf8c0",
   "metadata": {},
   "outputs": [
    {
     "data": {
      "text/plain": [
       "array([[1., 1., 1., 1., 1., 1., 1., 1., 1., 1.],\n",
       "       [1., 2., 2., 2., 2., 2., 2., 2., 2., 1.],\n",
       "       [1., 2., 3., 3., 3., 3., 3., 3., 2., 1.],\n",
       "       [1., 2., 3., 4., 4., 4., 4., 3., 2., 1.],\n",
       "       [1., 2., 3., 4., 4., 4., 4., 3., 2., 1.],\n",
       "       [1., 2., 3., 4., 4., 4., 4., 3., 2., 1.],\n",
       "       [1., 2., 3., 4., 4., 4., 4., 3., 2., 1.],\n",
       "       [1., 2., 3., 3., 3., 3., 3., 3., 2., 1.],\n",
       "       [1., 2., 2., 2., 2., 2., 2., 2., 2., 1.],\n",
       "       [1., 1., 1., 1., 1., 1., 1., 1., 1., 1.]])"
      ]
     },
     "execution_count": 43,
     "metadata": {},
     "output_type": "execute_result"
    }
   ],
   "source": [
    "a"
   ]
  },
  {
   "cell_type": "code",
   "execution_count": 48,
   "id": "17afc87a-77e3-421d-b6af-71c33d0110af",
   "metadata": {},
   "outputs": [],
   "source": [
    "a[4:6,4:6]=5"
   ]
  },
  {
   "cell_type": "code",
   "execution_count": 49,
   "id": "d6316bc2-30a3-41e9-80ec-0b995f38b4c8",
   "metadata": {},
   "outputs": [
    {
     "data": {
      "text/plain": [
       "array([[1., 1., 1., 1., 1., 1., 1., 1., 1., 1.],\n",
       "       [1., 2., 2., 2., 2., 2., 2., 2., 2., 1.],\n",
       "       [1., 2., 3., 3., 3., 3., 3., 3., 2., 1.],\n",
       "       [1., 2., 3., 4., 4., 4., 4., 3., 2., 1.],\n",
       "       [1., 2., 3., 4., 5., 5., 4., 3., 2., 1.],\n",
       "       [1., 2., 3., 4., 5., 5., 4., 3., 2., 1.],\n",
       "       [1., 2., 3., 4., 4., 4., 4., 3., 2., 1.],\n",
       "       [1., 2., 3., 3., 3., 3., 3., 3., 2., 1.],\n",
       "       [1., 2., 2., 2., 2., 2., 2., 2., 2., 1.],\n",
       "       [1., 1., 1., 1., 1., 1., 1., 1., 1., 1.]])"
      ]
     },
     "execution_count": 49,
     "metadata": {},
     "output_type": "execute_result"
    }
   ],
   "source": [
    "a"
   ]
  },
  {
   "cell_type": "code",
   "execution_count": 51,
   "id": "35d86031-2222-4a00-a875-75e74645d4e5",
   "metadata": {},
   "outputs": [
    {
     "data": {
      "text/plain": [
       "array([[1., 0., 0., 0., 0.],\n",
       "       [0., 1., 0., 0., 0.],\n",
       "       [0., 0., 1., 0., 0.],\n",
       "       [0., 0., 0., 1., 0.],\n",
       "       [0., 0., 0., 0., 1.]])"
      ]
     },
     "execution_count": 51,
     "metadata": {},
     "output_type": "execute_result"
    }
   ],
   "source": [
    "np.eye(5)"
   ]
  },
  {
   "cell_type": "code",
   "execution_count": null,
   "id": "ba473924-39b7-4e4a-9eb0-082dc71bef24",
   "metadata": {},
   "outputs": [],
   "source": []
  }
 ],
 "metadata": {
  "kernelspec": {
   "display_name": "Python 3 (ipykernel)",
   "language": "python",
   "name": "python3"
  },
  "language_info": {
   "codemirror_mode": {
    "name": "ipython",
    "version": 3
   },
   "file_extension": ".py",
   "mimetype": "text/x-python",
   "name": "python",
   "nbconvert_exporter": "python",
   "pygments_lexer": "ipython3",
   "version": "3.12.4"
  }
 },
 "nbformat": 4,
 "nbformat_minor": 5
}
