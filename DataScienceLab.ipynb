{
 "cells": [
  {
   "cell_type": "markdown",
   "metadata": {},
   "source": [
    "## Fundametnal Concepts of Python"
   ]
  },
  {
   "cell_type": "code",
   "execution_count": null,
   "metadata": {},
   "outputs": [],
   "source": []
  },
  {
   "cell_type": "code",
   "execution_count": 9,
   "metadata": {},
   "outputs": [
    {
     "data": {
      "text/plain": [
       "2401"
      ]
     },
     "execution_count": 9,
     "metadata": {},
     "output_type": "execute_result"
    }
   ],
   "source": [
    "pow(7,4)"
   ]
  },
  {
   "cell_type": "code",
   "execution_count": 10,
   "metadata": {},
   "outputs": [
    {
     "data": {
      "text/plain": [
       "1"
      ]
     },
     "execution_count": 10,
     "metadata": {},
     "output_type": "execute_result"
    }
   ],
   "source": [
    "7//4"
   ]
  },
  {
   "cell_type": "code",
   "execution_count": 4,
   "metadata": {},
   "outputs": [
    {
     "data": {
      "text/plain": [
       "['Hi', 'there', 'Sam!']"
      ]
     },
     "execution_count": 4,
     "metadata": {},
     "output_type": "execute_result"
    }
   ],
   "source": [
    "str = \"Hi there Sam!\"\n",
    "Splitted= str.split()\n",
    "Splitted"
   ]
  },
  {
   "cell_type": "raw",
   "metadata": {},
   "source": [
    "\n",
    "list\n",
    "l = [\"A\", 1, 1.1, (\"aa\"), [\"a\",\"b]]\n",
    "list is a collection of objects.\n",
    "it can store all data types objects (of python)\n",
    "it has indexind 0 to n.\n",
    "it is mutable.\n",
    "\n",
    "tuple\n",
    "t=(1,2,\"A\",[\"a\"],(1,2))\n",
    "it is collection of object like list.\n",
    "it is unmutable\n",
    "\n",
    "dictionry\n",
    "D={\"A\":\"apple\",\"b\":\"babana\",\"c\":11,\"D\":[1,2,3]}\n",
    "it has key value pairs.\n",
    "\n",
    "\n",
    "set\n",
    "S={1,2,8,5,\"b\"}\n",
    "norderd\n",
    "unchangable\n",
    "uniqevalues"
   ]
  },
  {
   "cell_type": "code",
   "execution_count": 7,
   "metadata": {},
   "outputs": [
    {
     "name": "stdout",
     "output_type": "stream",
     "text": [
      " Earth's diameter is 12742\n"
     ]
    }
   ],
   "source": [
    "p = \"Earth\"\n",
    "diameter = 12742\n",
    "print(f\" {p}'s diameter is {diameter}\")"
   ]
  },
  {
   "cell_type": "code",
   "execution_count": 11,
   "metadata": {},
   "outputs": [],
   "source": [
    "l = [\"A\", 1, 1.1, (\"aa\"), [\"a\",\"b\"]]\n",
    "t=(1,2,\"A\",[\"a\"],(1,2))\n",
    "S={1,2,5,8,\"b\"}\n",
    "D={\"A\":\"apple\",\"b\":\"babana\",\"c\":11,\"D\":[1,2,3]}"
   ]
  },
  {
   "cell_type": "code",
   "execution_count": 12,
   "metadata": {},
   "outputs": [
    {
     "name": "stdout",
     "output_type": "stream",
     "text": [
      "1.1\n",
      "['a']\n",
      "dict_items([('A', 'apple'), ('b', 'babana'), ('c', 11), ('D', [1, 2, 3])])\n"
     ]
    }
   ],
   "source": [
    "print(l[2])\n",
    "print(t[3])\n",
    "print(D.items())"
   ]
  },
  {
   "cell_type": "code",
   "execution_count": 14,
   "metadata": {},
   "outputs": [
    {
     "data": {
      "text/plain": [
       "'hello'"
      ]
     },
     "execution_count": 14,
     "metadata": {},
     "output_type": "execute_result"
    }
   ],
   "source": [
    "l1=[1,2,[3,4],[5,[100,200,\"hello\"]],[23,11],1,7]\n",
    "l1[3][1][2]"
   ]
  },
  {
   "cell_type": "code",
   "execution_count": 16,
   "metadata": {},
   "outputs": [
    {
     "data": {
      "text/plain": [
       "'hello'"
      ]
     },
     "execution_count": 16,
     "metadata": {},
     "output_type": "execute_result"
    }
   ],
   "source": [
    "d={'k1':[1,2,3,{'tricy':['oh','man','interception',{'target':[1,2,3,\"hello\"]}]}]}\n",
    "d['k1'][3]['tricy'][3]['target'][3]"
   ]
  },
  {
   "cell_type": "code",
   "execution_count": 17,
   "metadata": {},
   "outputs": [
    {
     "name": "stdout",
     "output_type": "stream",
     "text": [
      "gmail.com\n"
     ]
    }
   ],
   "source": [
    "def get_email(mail):\n",
    "    s = mail.split('@')\n",
    "    print(s[1])\n",
    "\n",
    "mail=\"abcd@gmail.com\"\n",
    "get_email(mail)\n"
   ]
  },
  {
   "cell_type": "code",
   "execution_count": 25,
   "metadata": {},
   "outputs": [
    {
     "name": "stdout",
     "output_type": "stream",
     "text": [
      "True\n"
     ]
    }
   ],
   "source": [
    "def find_dog(x):\n",
    "    if 'dog' in x:\n",
    "        return True\n",
    "    else:\n",
    "        return False\n",
    "abc = \"There is a dog !\"\n",
    "print(find_dog(abc))\n"
   ]
  },
  {
   "cell_type": "code",
   "execution_count": 14,
   "metadata": {},
   "outputs": [
    {
     "name": "stdout",
     "output_type": "stream",
     "text": [
      "['soup', 'salad']\n"
     ]
    }
   ],
   "source": [
    "ll=[\"apple\",\"banana\",\"sample\",\"school\"]\n",
    "b=list(filter(lambda x: x[0]==\"s\", ll))\n",
    "b"
   ]
  },
  {
   "cell_type": "code",
   "execution_count": 31,
   "metadata": {},
   "outputs": [
    {
     "name": "stdin",
     "output_type": "stream",
     "text": [
      "Enter your speed 61\n",
      "Enter your birthday date in 'DDMM' format 1111\n",
      "Enter today's in 'DDMM' format 2222\n"
     ]
    },
    {
     "name": "stdout",
     "output_type": "stream",
     "text": [
      "Small Ticket :|\n"
     ]
    }
   ],
   "source": [
    "def ticket(speed):\n",
    "    birthday = int(input(\"Enter your birthday date in 'DDMM' format\"))\n",
    "    date = int(input(\"Enter today's in 'DDMM' format\"))\n",
    "    s=0\n",
    "    if date == birthday:\n",
    "        s=5       \n",
    "    if speed <= 60+s:\n",
    "        print(\"No Ticket :)\")\n",
    "    elif speed >= 61+s and speed <=80+s:\n",
    "        print(\"Small Ticket :|\")\n",
    "    else:\n",
    "        print(\"Big Ticket :(\")\n",
    "    \n",
    "\n",
    "speed = int(input(\"Enter your speed\"))\n",
    "ticket(speed)"
   ]
  },
  {
   "cell_type": "code",
   "execution_count": 56,
   "metadata": {},
   "outputs": [
    {
     "name": "stdin",
     "output_type": "stream",
     "text": [
      "Enter your roll number:-  11\n",
      "Enter your name:-  11\n",
      "Enter your Physics marks:-  234\n",
      "Enter your Chemistry marks:-  22\n",
      "Enter your Maths marks:-  3334\n"
     ]
    },
    {
     "name": "stdout",
     "output_type": "stream",
     "text": [
      "\n",
      "--------Result---------\n",
      "Roll no:- 11\n",
      "Name :- 11\n",
      "Status:- Failed\n",
      "You got 11.0 Marks\n",
      "You got 1196.6666666666667%\n"
     ]
    }
   ],
   "source": [
    "roll = input(\"Enter your roll number:- \")\n",
    "name = input(\"Enter your name:- \")\n",
    "\n",
    "p = int(input(\"Enter your Physics marks:- \"))\n",
    "c = int(input(\"Enter your Chemistry marks:- \"))\n",
    "m = int(input(\"Enter your Maths marks:- \"))\n",
    "marks=[p,c,m]\n",
    "\n",
    "print(\"\\n--------Result---------\")\n",
    "print(f\"Roll no:- {roll}\")\n",
    "print(f\"Name :- {name}\")\n",
    "\n",
    "if min(marks) <40:\n",
    "    print(\"Status:- Failed\")\n",
    "else :\n",
    "    print(\"Status:- Passed\")  \n",
    "    \n",
    "total = sum(marks)\n",
    "print(f\"You got {pr} Marks\")\n",
    "pr = (total/3)\n",
    "print(f\"You got {pr}%\")\n",
    "\n"
   ]
  },
  {
   "cell_type": "code",
   "execution_count": 48,
   "metadata": {},
   "outputs": [
    {
     "name": "stdin",
     "output_type": "stream",
     "text": [
      "Enter your Employee id:  #@11\n",
      "Enter your name:  Babloo\n",
      "Enter your annual salary:  123456789\n",
      "Enter no.of experience in years:  10\n"
     ]
    },
    {
     "name": "stdout",
     "output_type": "stream",
     "text": [
      "Your HRA is: 43209876.15\n",
      "Your DA is: 71604937.61999999\n",
      "Your PF is: 11728394.955\n",
      "Your bonus is 40740740.370000005\n",
      "Your Net Salary is: 267283948.185\n"
     ]
    }
   ],
   "source": [
    "emp_id = input(\"Enter your Employee id: \")\n",
    "name = input(\"Enter your name: \")\n",
    "base = int(input(\"Enter your annual salary: \"))\n",
    "exp = int(input(\"Enter no.of experience in years: \"))\n",
    "\n",
    "hra = base*0.35\n",
    "da = base*0.58\n",
    "pf = base*0.095\n",
    "\n",
    "if exp >= 30:\n",
    "    bonus=base*0.59\n",
    "elif exp >= 23:\n",
    "    bonus=base*0.51\n",
    "elif exp >= 15:\n",
    "    bonus=base*0.45\n",
    "elif exp >= 7:\n",
    "    bonus=base*0.33\n",
    "else :\n",
    "    bonus=base*0.16\n",
    "\n",
    "net = base+da+hra-pf+bonus\n",
    "\n",
    "print(f\"Your HRA is: {hra}\")\n",
    "print(f\"Your DA is: {da}\")\n",
    "print(f\"Your PF is: {pf}\")\n",
    "print(f\"Your bonus is {bonus}\")\n",
    "print(f\"Your Net Salary is: {net}\")\n",
    "\n"
   ]
  },
  {
   "cell_type": "markdown",
   "metadata": {},
   "source": [
    "### LIST & DICTIONARY ASSIGMENT"
   ]
  },
  {
   "cell_type": "code",
   "execution_count": 58,
   "metadata": {},
   "outputs": [
    {
     "name": "stdin",
     "output_type": "stream",
     "text": [
      "Enter your roll number:  12345\n"
     ]
    },
    {
     "name": "stdout",
     "output_type": "stream",
     "text": [
      "(12345, 'Diksha ', 'Dikshar@nuv.ac.in')\n"
     ]
    }
   ],
   "source": [
    "\n",
    "data=[(12345,\"Diksha\",\"Dikshar@nuv.ac.in\"),(45667,\"Jiva\",\"Jiva@nuv.ac.in\"),(16789,\"Ronit\",\"Ronitd@nuv.ac.in\"),(69433,\"Heena\",\"Heena@nuv.ac.in\")]\n",
    "def get_record(roll):\n",
    "    found=\"No record found!\"\n",
    "    for i in data:\n",
    "        if i[0] == roll:\n",
    "            found=i\n",
    "    return found\n",
    "\n",
    "x = int(input(\"Enter your roll number: \"))\n",
    "print(get_record(x))"
   ]
  },
  {
   "cell_type": "code",
   "execution_count": 65,
   "metadata": {},
   "outputs": [
    {
     "name": "stdin",
     "output_type": "stream",
     "text": [
      "Enter you name:  diksha\n"
     ]
    },
    {
     "name": "stdout",
     "output_type": "stream",
     "text": [
      "Roll no :- 12345\n",
      "Name :- Diksha\n",
      "Email: Dikshar@nuv.ac.in\n"
     ]
    }
   ],
   "source": [
    "Mydict ={\"Enrollment Id\" : [12345,45667,16789,69433],\n",
    "         \"Student Name\" : [\"Diksha\",\"Jiva\",\"Ronit\",\"Heena\"], \n",
    "         \"Email Id\": [\"Dikshar@nuv.ac.in\",\"Jiva@nuv.ac.in\",\"Ronitd@nuv.ac.in\",\"Heena@nuv.ac.in\"]}\n",
    "def get_recordd(name):\n",
    "    found=\"No record found!\"\n",
    "    if name in Mydict[\"Student Name\"]:\n",
    "        i=Mydict[\"Student Name\"].index(name)\n",
    "        found = (f\"Roll no :- {Mydict[\"Enrollment Id\"][i]}\\nName :- {name}\\nEmail: {Mydict[\"Email Id\"][i]}\")      \n",
    "    return found\n",
    "\n",
    "x = input(\"Enter you name: \").lower().capitalize()\n",
    "print(get_recordd(x))"
   ]
  },
  {
   "cell_type": "code",
   "execution_count": 83,
   "metadata": {},
   "outputs": [
    {
     "data": {
      "text/html": [
       "<div>\n",
       "<style scoped>\n",
       "    .dataframe tbody tr th:only-of-type {\n",
       "        vertical-align: middle;\n",
       "    }\n",
       "\n",
       "    .dataframe tbody tr th {\n",
       "        vertical-align: top;\n",
       "    }\n",
       "\n",
       "    .dataframe thead th {\n",
       "        text-align: right;\n",
       "    }\n",
       "</style>\n",
       "<table border=\"1\" class=\"dataframe\">\n",
       "  <thead>\n",
       "    <tr style=\"text-align: right;\">\n",
       "      <th></th>\n",
       "      <th>Enrollment id</th>\n",
       "      <th>Name</th>\n",
       "      <th>Email</th>\n",
       "    </tr>\n",
       "  </thead>\n",
       "  <tbody>\n",
       "    <tr>\n",
       "      <th>0</th>\n",
       "      <td>12345</td>\n",
       "      <td>Diksha</td>\n",
       "      <td>Dikshar@nuv.ac.in</td>\n",
       "    </tr>\n",
       "    <tr>\n",
       "      <th>1</th>\n",
       "      <td>45667</td>\n",
       "      <td>Jiva</td>\n",
       "      <td>Jiva@nuv.ac.in</td>\n",
       "    </tr>\n",
       "    <tr>\n",
       "      <th>2</th>\n",
       "      <td>16789</td>\n",
       "      <td>Ronit</td>\n",
       "      <td>Ronitd@nuv.ac.in</td>\n",
       "    </tr>\n",
       "    <tr>\n",
       "      <th>3</th>\n",
       "      <td>69433</td>\n",
       "      <td>Heena</td>\n",
       "      <td>Heena@nuv.ac.in</td>\n",
       "    </tr>\n",
       "  </tbody>\n",
       "</table>\n",
       "</div>"
      ],
      "text/plain": [
       "   Enrollment id    Name              Email\n",
       "0          12345  Diksha  Dikshar@nuv.ac.in\n",
       "1          45667    Jiva     Jiva@nuv.ac.in\n",
       "2          16789   Ronit   Ronitd@nuv.ac.in\n",
       "3          69433   Heena    Heena@nuv.ac.in"
      ]
     },
     "execution_count": 83,
     "metadata": {},
     "output_type": "execute_result"
    }
   ],
   "source": [
    "data=[(12345,\"Diksha\",\"Dikshar@nuv.ac.in\"),(45667,\"Jiva\",\"Jiva@nuv.ac.in\"),(16789,\"Ronit\",\"Ronitd@nuv.ac.in\"),(69433,\"Heena\",\"Heena@nuv.ac.in\")]\n",
    "def convert(Data):\n",
    "    dict1={\"Enrollment id\":[],\"Name\":[],\"Email\":[]}\n",
    "    for i in Data:\n",
    "        dict1[\"Enrollment id\"].append(i[0])\n",
    "        dict1[\"Name\"].append(i[1])\n",
    "        dict1[\"Email\"].append(i[2])\n",
    "    return dict1    \n",
    "    \n",
    "import pandas as pd \n",
    "df = pd.DataFrame.from_dict(convert(data))\n",
    "df"
   ]
  }
 ],
 "metadata": {
  "kernelspec": {
   "display_name": "Python 3 (ipykernel)",
   "language": "python",
   "name": "python3"
  },
  "language_info": {
   "codemirror_mode": {
    "name": "ipython",
    "version": 3
   },
   "file_extension": ".py",
   "mimetype": "text/x-python",
   "name": "python",
   "nbconvert_exporter": "python",
   "pygments_lexer": "ipython3",
   "version": "3.12.4"
  }
 },
 "nbformat": 4,
 "nbformat_minor": 4
}
